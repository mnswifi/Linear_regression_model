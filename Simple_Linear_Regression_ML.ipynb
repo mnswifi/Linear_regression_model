{
  "cells": [
    {
      "cell_type": "markdown",
      "source": [
        "# Contents\n",
        "* [Importing Libraries](#irl)\n",
        "* [Loading dataframe](#ldf)\n",
        "* [Accessing data](#ad)\n",
        "    * [Checking Missing values](#cmv)\n",
        "        * [Replacing missing values](#rmv)\n",
        "        * [Cleaning confirmation](#cc)\n",
        "    * [Visual Assessment](#va)\n",
        "        * [Dependent variable distribution](#dvd)\n",
        "        * [Independent variable distribution](#ivd)\n",
        "        * [Relations Assessment](#ra)\n",
        "    * [Outlier Detection](#od)\n",
        "        * [Outlier Treatment](#ot)\n",
        "    * [Obtaining ML Model](#omm)\n",
        "        * [Array Reshaping](#ar)\n",
        "        * [Linear Regression](#lr)\n",
        "          * [Model Training](#mtl)\n",
        "          * [Making Predictions](#mpl)\n",
        "          * [Model Performance](#mpel)\n",
        "        * [Random Forest](#rf)\n",
        "          * [Model Training](#mtr)\n",
        "          * [Making Predictions](#mpr)\n",
        "          * [Model Performance](#mper)\n",
        "          * [Model Comparison](#cm)\n",
        "      * [Training and Predicted visualization](#tpr)\n",
        "         \n",
        "\n",
        "\n",
        "\n",
        "# Importing required libraries \n",
        "<a class=\"anchor\" id=\"irl\"></a>\n",
        "\n",
        "\n",
        "\n"
      ],
      "metadata": {
        "id": "hNmBPmu2UzN8"
      },
      "id": "hNmBPmu2UzN8"
    },
    {
      "cell_type": "code",
      "execution_count": 2,
      "id": "35353a4b",
      "metadata": {
        "id": "35353a4b"
      },
      "outputs": [],
      "source": [
        "import pandas as pd\n",
        "import seaborn as sb\n",
        "import numpy as np\n",
        "from matplotlib import pyplot as plt\n",
        "from sklearn.model_selection import train_test_split\n",
        "from sklearn.linear_model import LinearRegression\n",
        "from sklearn.metrics import mean_squared_error, r2_score\n",
        "from sklearn.ensemble import RandomForestRegressor\n"
      ]
    },
    {
      "cell_type": "markdown",
      "source": [
        "# Reading dataframe csv file \n",
        " <a class=\"anchor\" id=\"ldf\"></a>\n"
      ],
      "metadata": {
        "id": "ARO967QmU9aJ"
      },
      "id": "ARO967QmU9aJ"
    },
    {
      "cell_type": "code",
      "execution_count": 4,
      "id": "19cf20c1",
      "metadata": {
        "id": "19cf20c1"
      },
      "outputs": [],
      "source": [
        "df = pd.read_csv(\"/content/dataframe_.csv\")"
      ]
    },
    {
      "cell_type": "markdown",
      "source": [
        "# Accessing data \n",
        "<a class=\"anchor\" id=\"ad\"></a>\n",
        "\n",
        "         "
      ],
      "metadata": {
        "id": "U2gX5196VDt2"
      },
      "id": "U2gX5196VDt2"
    },
    {
      "cell_type": "code",
      "execution_count": 6,
      "id": "f1a7d93a",
      "metadata": {
        "colab": {
          "base_uri": "https://localhost:8080/",
          "height": 206
        },
        "id": "f1a7d93a",
        "outputId": "0f09a914-141f-4e3d-8aae-5f5acd3b7a46"
      },
      "outputs": [
        {
          "output_type": "execute_result",
          "data": {
            "text/plain": [
              "        input      output\n",
              "0 -122.740667 -130.572085\n",
              "1 -121.531419 -129.938929\n",
              "2 -134.917019 -130.141832\n",
              "3 -120.605951 -125.760932\n",
              "4 -129.894781 -112.785214"
            ],
            "text/html": [
              "\n",
              "  <div id=\"df-aabc9052-4291-4c38-baf0-a2a44217c698\">\n",
              "    <div class=\"colab-df-container\">\n",
              "      <div>\n",
              "<style scoped>\n",
              "    .dataframe tbody tr th:only-of-type {\n",
              "        vertical-align: middle;\n",
              "    }\n",
              "\n",
              "    .dataframe tbody tr th {\n",
              "        vertical-align: top;\n",
              "    }\n",
              "\n",
              "    .dataframe thead th {\n",
              "        text-align: right;\n",
              "    }\n",
              "</style>\n",
              "<table border=\"1\" class=\"dataframe\">\n",
              "  <thead>\n",
              "    <tr style=\"text-align: right;\">\n",
              "      <th></th>\n",
              "      <th>input</th>\n",
              "      <th>output</th>\n",
              "    </tr>\n",
              "  </thead>\n",
              "  <tbody>\n",
              "    <tr>\n",
              "      <th>0</th>\n",
              "      <td>-122.740667</td>\n",
              "      <td>-130.572085</td>\n",
              "    </tr>\n",
              "    <tr>\n",
              "      <th>1</th>\n",
              "      <td>-121.531419</td>\n",
              "      <td>-129.938929</td>\n",
              "    </tr>\n",
              "    <tr>\n",
              "      <th>2</th>\n",
              "      <td>-134.917019</td>\n",
              "      <td>-130.141832</td>\n",
              "    </tr>\n",
              "    <tr>\n",
              "      <th>3</th>\n",
              "      <td>-120.605951</td>\n",
              "      <td>-125.760932</td>\n",
              "    </tr>\n",
              "    <tr>\n",
              "      <th>4</th>\n",
              "      <td>-129.894781</td>\n",
              "      <td>-112.785214</td>\n",
              "    </tr>\n",
              "  </tbody>\n",
              "</table>\n",
              "</div>\n",
              "      <button class=\"colab-df-convert\" onclick=\"convertToInteractive('df-aabc9052-4291-4c38-baf0-a2a44217c698')\"\n",
              "              title=\"Convert this dataframe to an interactive table.\"\n",
              "              style=\"display:none;\">\n",
              "        \n",
              "  <svg xmlns=\"http://www.w3.org/2000/svg\" height=\"24px\"viewBox=\"0 0 24 24\"\n",
              "       width=\"24px\">\n",
              "    <path d=\"M0 0h24v24H0V0z\" fill=\"none\"/>\n",
              "    <path d=\"M18.56 5.44l.94 2.06.94-2.06 2.06-.94-2.06-.94-.94-2.06-.94 2.06-2.06.94zm-11 1L8.5 8.5l.94-2.06 2.06-.94-2.06-.94L8.5 2.5l-.94 2.06-2.06.94zm10 10l.94 2.06.94-2.06 2.06-.94-2.06-.94-.94-2.06-.94 2.06-2.06.94z\"/><path d=\"M17.41 7.96l-1.37-1.37c-.4-.4-.92-.59-1.43-.59-.52 0-1.04.2-1.43.59L10.3 9.45l-7.72 7.72c-.78.78-.78 2.05 0 2.83L4 21.41c.39.39.9.59 1.41.59.51 0 1.02-.2 1.41-.59l7.78-7.78 2.81-2.81c.8-.78.8-2.07 0-2.86zM5.41 20L4 18.59l7.72-7.72 1.47 1.35L5.41 20z\"/>\n",
              "  </svg>\n",
              "      </button>\n",
              "      \n",
              "  <style>\n",
              "    .colab-df-container {\n",
              "      display:flex;\n",
              "      flex-wrap:wrap;\n",
              "      gap: 12px;\n",
              "    }\n",
              "\n",
              "    .colab-df-convert {\n",
              "      background-color: #E8F0FE;\n",
              "      border: none;\n",
              "      border-radius: 50%;\n",
              "      cursor: pointer;\n",
              "      display: none;\n",
              "      fill: #1967D2;\n",
              "      height: 32px;\n",
              "      padding: 0 0 0 0;\n",
              "      width: 32px;\n",
              "    }\n",
              "\n",
              "    .colab-df-convert:hover {\n",
              "      background-color: #E2EBFA;\n",
              "      box-shadow: 0px 1px 2px rgba(60, 64, 67, 0.3), 0px 1px 3px 1px rgba(60, 64, 67, 0.15);\n",
              "      fill: #174EA6;\n",
              "    }\n",
              "\n",
              "    [theme=dark] .colab-df-convert {\n",
              "      background-color: #3B4455;\n",
              "      fill: #D2E3FC;\n",
              "    }\n",
              "\n",
              "    [theme=dark] .colab-df-convert:hover {\n",
              "      background-color: #434B5C;\n",
              "      box-shadow: 0px 1px 3px 1px rgba(0, 0, 0, 0.15);\n",
              "      filter: drop-shadow(0px 1px 2px rgba(0, 0, 0, 0.3));\n",
              "      fill: #FFFFFF;\n",
              "    }\n",
              "  </style>\n",
              "\n",
              "      <script>\n",
              "        const buttonEl =\n",
              "          document.querySelector('#df-aabc9052-4291-4c38-baf0-a2a44217c698 button.colab-df-convert');\n",
              "        buttonEl.style.display =\n",
              "          google.colab.kernel.accessAllowed ? 'block' : 'none';\n",
              "\n",
              "        async function convertToInteractive(key) {\n",
              "          const element = document.querySelector('#df-aabc9052-4291-4c38-baf0-a2a44217c698');\n",
              "          const dataTable =\n",
              "            await google.colab.kernel.invokeFunction('convertToInteractive',\n",
              "                                                     [key], {});\n",
              "          if (!dataTable) return;\n",
              "\n",
              "          const docLinkHtml = 'Like what you see? Visit the ' +\n",
              "            '<a target=\"_blank\" href=https://colab.research.google.com/notebooks/data_table.ipynb>data table notebook</a>'\n",
              "            + ' to learn more about interactive tables.';\n",
              "          element.innerHTML = '';\n",
              "          dataTable['output_type'] = 'display_data';\n",
              "          await google.colab.output.renderOutput(dataTable, element);\n",
              "          const docLink = document.createElement('div');\n",
              "          docLink.innerHTML = docLinkHtml;\n",
              "          element.appendChild(docLink);\n",
              "        }\n",
              "      </script>\n",
              "    </div>\n",
              "  </div>\n",
              "  "
            ]
          },
          "metadata": {},
          "execution_count": 6
        }
      ],
      "source": [
        "df.head()"
      ]
    },
    {
      "cell_type": "code",
      "execution_count": 5,
      "id": "7aa06a69",
      "metadata": {
        "id": "7aa06a69",
        "outputId": "4b3f8b00-54db-4152-a983-b8845fd65a2d",
        "colab": {
          "base_uri": "https://localhost:8080/"
        }
      },
      "outputs": [
        {
          "output_type": "execute_result",
          "data": {
            "text/plain": [
              "(1697, 2)"
            ]
          },
          "metadata": {},
          "execution_count": 5
        }
      ],
      "source": [
        "df.shape"
      ]
    },
    {
      "cell_type": "markdown",
      "source": [
        "We have an array of 1697 entries, each with two distinct attributes, which is highlighted by the shape command for our datasets."
      ],
      "metadata": {
        "id": "l2I5dv47b2Tr"
      },
      "id": "l2I5dv47b2Tr"
    },
    {
      "cell_type": "code",
      "source": [
        "df.info()"
      ],
      "metadata": {
        "colab": {
          "base_uri": "https://localhost:8080/"
        },
        "id": "fdMK6J4vVV2x",
        "outputId": "2c474589-88a7-4fba-97c3-bf7b739e8068"
      },
      "id": "fdMK6J4vVV2x",
      "execution_count": null,
      "outputs": [
        {
          "output_type": "stream",
          "name": "stdout",
          "text": [
            "<class 'pandas.core.frame.DataFrame'>\n",
            "RangeIndex: 1697 entries, 0 to 1696\n",
            "Data columns (total 2 columns):\n",
            " #   Column  Non-Null Count  Dtype  \n",
            "---  ------  --------------  -----  \n",
            " 0   input   1696 non-null   float64\n",
            " 1   output  1696 non-null   float64\n",
            "dtypes: float64(2)\n",
            "memory usage: 26.6 KB\n"
          ]
        }
      ]
    },
    {
      "cell_type": "markdown",
      "source": [
        "The number of records stated by the shape output is 1697, however, there are only 1696 records shown by info output, indicating that one value is absent in our datasets. We will investigate this further as both features possess a float data type."
      ],
      "metadata": {
        "id": "6dK_aekFcPCq"
      },
      "id": "6dK_aekFcPCq"
    },
    {
      "cell_type": "code",
      "source": [
        "df.describe()"
      ],
      "metadata": {
        "colab": {
          "base_uri": "https://localhost:8080/",
          "height": 300
        },
        "id": "JUomRv1yVSQx",
        "outputId": "99827898-1f9a-4bcd-eade-a44955822db6"
      },
      "id": "JUomRv1yVSQx",
      "execution_count": null,
      "outputs": [
        {
          "output_type": "execute_result",
          "data": {
            "text/plain": [
              "             input       output\n",
              "count  1696.000000  1696.000000\n",
              "mean      1.159933   -34.088017\n",
              "std      79.005970    65.771112\n",
              "min    -134.962839  -132.422167\n",
              "25%     -63.386506   -80.026767\n",
              "50%      10.195194   -50.470981\n",
              "75%      70.264109   -11.000000\n",
              "max     134.605775   134.425495"
            ],
            "text/html": [
              "\n",
              "  <div id=\"df-bf1e687d-ac29-4010-844a-b68422361af2\">\n",
              "    <div class=\"colab-df-container\">\n",
              "      <div>\n",
              "<style scoped>\n",
              "    .dataframe tbody tr th:only-of-type {\n",
              "        vertical-align: middle;\n",
              "    }\n",
              "\n",
              "    .dataframe tbody tr th {\n",
              "        vertical-align: top;\n",
              "    }\n",
              "\n",
              "    .dataframe thead th {\n",
              "        text-align: right;\n",
              "    }\n",
              "</style>\n",
              "<table border=\"1\" class=\"dataframe\">\n",
              "  <thead>\n",
              "    <tr style=\"text-align: right;\">\n",
              "      <th></th>\n",
              "      <th>input</th>\n",
              "      <th>output</th>\n",
              "    </tr>\n",
              "  </thead>\n",
              "  <tbody>\n",
              "    <tr>\n",
              "      <th>count</th>\n",
              "      <td>1696.000000</td>\n",
              "      <td>1696.000000</td>\n",
              "    </tr>\n",
              "    <tr>\n",
              "      <th>mean</th>\n",
              "      <td>1.159933</td>\n",
              "      <td>-34.088017</td>\n",
              "    </tr>\n",
              "    <tr>\n",
              "      <th>std</th>\n",
              "      <td>79.005970</td>\n",
              "      <td>65.771112</td>\n",
              "    </tr>\n",
              "    <tr>\n",
              "      <th>min</th>\n",
              "      <td>-134.962839</td>\n",
              "      <td>-132.422167</td>\n",
              "    </tr>\n",
              "    <tr>\n",
              "      <th>25%</th>\n",
              "      <td>-63.386506</td>\n",
              "      <td>-80.026767</td>\n",
              "    </tr>\n",
              "    <tr>\n",
              "      <th>50%</th>\n",
              "      <td>10.195194</td>\n",
              "      <td>-50.470981</td>\n",
              "    </tr>\n",
              "    <tr>\n",
              "      <th>75%</th>\n",
              "      <td>70.264109</td>\n",
              "      <td>-11.000000</td>\n",
              "    </tr>\n",
              "    <tr>\n",
              "      <th>max</th>\n",
              "      <td>134.605775</td>\n",
              "      <td>134.425495</td>\n",
              "    </tr>\n",
              "  </tbody>\n",
              "</table>\n",
              "</div>\n",
              "      <button class=\"colab-df-convert\" onclick=\"convertToInteractive('df-bf1e687d-ac29-4010-844a-b68422361af2')\"\n",
              "              title=\"Convert this dataframe to an interactive table.\"\n",
              "              style=\"display:none;\">\n",
              "        \n",
              "  <svg xmlns=\"http://www.w3.org/2000/svg\" height=\"24px\"viewBox=\"0 0 24 24\"\n",
              "       width=\"24px\">\n",
              "    <path d=\"M0 0h24v24H0V0z\" fill=\"none\"/>\n",
              "    <path d=\"M18.56 5.44l.94 2.06.94-2.06 2.06-.94-2.06-.94-.94-2.06-.94 2.06-2.06.94zm-11 1L8.5 8.5l.94-2.06 2.06-.94-2.06-.94L8.5 2.5l-.94 2.06-2.06.94zm10 10l.94 2.06.94-2.06 2.06-.94-2.06-.94-.94-2.06-.94 2.06-2.06.94z\"/><path d=\"M17.41 7.96l-1.37-1.37c-.4-.4-.92-.59-1.43-.59-.52 0-1.04.2-1.43.59L10.3 9.45l-7.72 7.72c-.78.78-.78 2.05 0 2.83L4 21.41c.39.39.9.59 1.41.59.51 0 1.02-.2 1.41-.59l7.78-7.78 2.81-2.81c.8-.78.8-2.07 0-2.86zM5.41 20L4 18.59l7.72-7.72 1.47 1.35L5.41 20z\"/>\n",
              "  </svg>\n",
              "      </button>\n",
              "      \n",
              "  <style>\n",
              "    .colab-df-container {\n",
              "      display:flex;\n",
              "      flex-wrap:wrap;\n",
              "      gap: 12px;\n",
              "    }\n",
              "\n",
              "    .colab-df-convert {\n",
              "      background-color: #E8F0FE;\n",
              "      border: none;\n",
              "      border-radius: 50%;\n",
              "      cursor: pointer;\n",
              "      display: none;\n",
              "      fill: #1967D2;\n",
              "      height: 32px;\n",
              "      padding: 0 0 0 0;\n",
              "      width: 32px;\n",
              "    }\n",
              "\n",
              "    .colab-df-convert:hover {\n",
              "      background-color: #E2EBFA;\n",
              "      box-shadow: 0px 1px 2px rgba(60, 64, 67, 0.3), 0px 1px 3px 1px rgba(60, 64, 67, 0.15);\n",
              "      fill: #174EA6;\n",
              "    }\n",
              "\n",
              "    [theme=dark] .colab-df-convert {\n",
              "      background-color: #3B4455;\n",
              "      fill: #D2E3FC;\n",
              "    }\n",
              "\n",
              "    [theme=dark] .colab-df-convert:hover {\n",
              "      background-color: #434B5C;\n",
              "      box-shadow: 0px 1px 3px 1px rgba(0, 0, 0, 0.15);\n",
              "      filter: drop-shadow(0px 1px 2px rgba(0, 0, 0, 0.3));\n",
              "      fill: #FFFFFF;\n",
              "    }\n",
              "  </style>\n",
              "\n",
              "      <script>\n",
              "        const buttonEl =\n",
              "          document.querySelector('#df-bf1e687d-ac29-4010-844a-b68422361af2 button.colab-df-convert');\n",
              "        buttonEl.style.display =\n",
              "          google.colab.kernel.accessAllowed ? 'block' : 'none';\n",
              "\n",
              "        async function convertToInteractive(key) {\n",
              "          const element = document.querySelector('#df-bf1e687d-ac29-4010-844a-b68422361af2');\n",
              "          const dataTable =\n",
              "            await google.colab.kernel.invokeFunction('convertToInteractive',\n",
              "                                                     [key], {});\n",
              "          if (!dataTable) return;\n",
              "\n",
              "          const docLinkHtml = 'Like what you see? Visit the ' +\n",
              "            '<a target=\"_blank\" href=https://colab.research.google.com/notebooks/data_table.ipynb>data table notebook</a>'\n",
              "            + ' to learn more about interactive tables.';\n",
              "          element.innerHTML = '';\n",
              "          dataTable['output_type'] = 'display_data';\n",
              "          await google.colab.output.renderOutput(dataTable, element);\n",
              "          const docLink = document.createElement('div');\n",
              "          docLink.innerHTML = docLinkHtml;\n",
              "          element.appendChild(docLink);\n",
              "        }\n",
              "      </script>\n",
              "    </div>\n",
              "  </div>\n",
              "  "
            ]
          },
          "metadata": {},
          "execution_count": 6
        }
      ]
    },
    {
      "cell_type": "markdown",
      "source": [
        "Despite having very close minimum and maximum values in both features, there is a noteworthy discrepancy in the mean and standard deviations. The mean of the output feature is -34.088017, which implies a noteworthy number of negative values, distinct from the mean of the input feature, which is 1.159933."
      ],
      "metadata": {
        "id": "Tw8Av3GAczRa"
      },
      "id": "Tw8Av3GAczRa"
    },
    {
      "cell_type": "markdown",
      "source": [
        "## Missing values check \n",
        "<a class=\"anchor\" id=\"cmv\"></a>\n",
        "### code\n",
        "---\n"
      ],
      "metadata": {
        "id": "k2bOWQ5sVoaZ"
      },
      "id": "k2bOWQ5sVoaZ"
    },
    {
      "cell_type": "code",
      "execution_count": 7,
      "id": "5a2b2608",
      "metadata": {
        "scrolled": true,
        "id": "5a2b2608",
        "outputId": "ed5d2c6f-6a98-4511-bc49-d9174d18fb5b",
        "colab": {
          "base_uri": "https://localhost:8080/"
        }
      },
      "outputs": [
        {
          "output_type": "execute_result",
          "data": {
            "text/plain": [
              "input     1\n",
              "output    1\n",
              "dtype: int64"
            ]
          },
          "metadata": {},
          "execution_count": 7
        }
      ],
      "source": [
        "# missing values\n",
        "df.isna().sum()"
      ]
    },
    {
      "cell_type": "markdown",
      "source": [
        "### Replacing missing values with 0 \n",
        "<a class=\"anchor\" id=\"rmv\"></a>"
      ],
      "metadata": {
        "id": "1YpBZ2qhZ5Z7"
      },
      "id": "1YpBZ2qhZ5Z7"
    },
    {
      "cell_type": "code",
      "source": [
        "df_ml = df.copy()\n",
        "df_ml.fillna(0, inplace = True)"
      ],
      "metadata": {
        "id": "LNH0wmk93gNJ"
      },
      "id": "LNH0wmk93gNJ",
      "execution_count": 22,
      "outputs": []
    },
    {
      "cell_type": "markdown",
      "source": [
        "### Cleaning Confirmation \n",
        "<a class=\"anchor\" id=\"cc\"></a>"
      ],
      "metadata": {
        "id": "a0haaN40eNXd"
      },
      "id": "a0haaN40eNXd"
    },
    {
      "cell_type": "code",
      "source": [
        "df_ml.isna().sum()"
      ],
      "metadata": {
        "colab": {
          "base_uri": "https://localhost:8080/"
        },
        "id": "KmGBeQEReW4y",
        "outputId": "d3805d63-13ec-479e-827e-dd5a63efd81f"
      },
      "id": "KmGBeQEReW4y",
      "execution_count": 23,
      "outputs": [
        {
          "output_type": "execute_result",
          "data": {
            "text/plain": [
              "input     0\n",
              "output    0\n",
              "dtype: int64"
            ]
          },
          "metadata": {},
          "execution_count": 23
        }
      ]
    },
    {
      "cell_type": "markdown",
      "source": [
        "## Visual Assesment \n",
        "<a class=\"anchor\" id=\"va\"></a>"
      ],
      "metadata": {
        "id": "c8_-9aceaIOk"
      },
      "id": "c8_-9aceaIOk"
    },
    {
      "cell_type": "markdown",
      "source": [
        "### Independent variable distribution \n",
        "<a class=\"anchor\" id=\"ivd\"></a>   "
      ],
      "metadata": {
        "id": "SWqDvNiOMP2d"
      },
      "id": "SWqDvNiOMP2d"
    },
    {
      "cell_type": "code",
      "source": [
        "#delay plot function\n",
        "def dist_plot(col):\n",
        "   ''' This function plots the histogram based on passed column name'''\n",
        "   plt.figure(figsize=(8,8))\n",
        "\n",
        "   # binsize \n",
        "   min = df_ml[col].min()\n",
        "   max = df_ml[col].max()   \n",
        "   bins = np.arange(min, max + 5, 5)\n",
        "   plt.hist( data = df_ml, x = col, bins=bins);\n",
        "  \n",
        "   plt.title(('{}' + ' distribution').format(col), fontsize=18)\n",
        "   plt.xlabel('{}'.format(col),fontsize=14)\n",
        "   plt.show()\n",
        "    \n",
        "# Plotting distribution of arrival delay    \n",
        "dist_plot('input')\n"
      ],
      "metadata": {
        "colab": {
          "base_uri": "https://localhost:8080/",
          "height": 521
        },
        "id": "NFhgOdOGuj_G",
        "outputId": "73d92e0f-109d-488b-d5f8-aea2e7e43c67"
      },
      "id": "NFhgOdOGuj_G",
      "execution_count": 24,
      "outputs": [
        {
          "output_type": "display_data",
          "data": {
            "text/plain": [
              "<Figure size 576x576 with 1 Axes>"
            ],
            "image/png": "[encoded data removed]"
          },
          "metadata": {
            "needs_background": "light"
          }
        }
      ]
    },
    {
      "cell_type": "markdown",
      "source": [
        "### Dependent variable distribution \n",
        "<a class=\"anchor\" id=\"dvd\"></a>  "
      ],
      "metadata": {
        "id": "9sADXz8KgRH8"
      },
      "id": "9sADXz8KgRH8"
    },
    {
      "cell_type": "code",
      "source": [
        "#Output distribution\n",
        "dist_plot('output')"
      ],
      "metadata": {
        "colab": {
          "base_uri": "https://localhost:8080/",
          "height": 521
        },
        "id": "nD6pjGP9upV2",
        "outputId": "e89fefb2-3bc9-4058-dfa5-29492576ee89"
      },
      "id": "nD6pjGP9upV2",
      "execution_count": 19,
      "outputs": [
        {
          "output_type": "display_data",
          "data": {
            "text/plain": [
              "<Figure size 576x576 with 1 Axes>"
            ],
            "image/png": "[encoded data removed]"
          },
          "metadata": {
            "needs_background": "light"
          }
        }
      ]
    },
    {
      "cell_type": "markdown",
      "source": [
        "### Relationship Assesment \n",
        "<a class=\"anchor\" id=\"ra\"></a> \n"
      ],
      "metadata": {
        "id": "qxzhfzaSgsE5"
      },
      "id": "qxzhfzaSgsE5"
    },
    {
      "cell_type": "code",
      "source": [
        "# relationship viz using scatter plot\n",
        "plt.figure(figsize=[10,8]);\n",
        "df_ml.plot(kind='scatter', x='input', y='output');\n",
        "plt.title(\"Input vs Output relationship\");"
      ],
      "metadata": {
        "colab": {
          "base_uri": "https://localhost:8080/",
          "height": 312
        },
        "id": "muULSwjyuKO5",
        "outputId": "d70c4328-95ed-449a-c4e8-83e150ea3c08"
      },
      "id": "muULSwjyuKO5",
      "execution_count": 25,
      "outputs": [
        {
          "output_type": "display_data",
          "data": {
            "text/plain": [
              "<Figure size 720x576 with 0 Axes>"
            ]
          },
          "metadata": {}
        },
        {
          "output_type": "display_data",
          "data": {
            "text/plain": [
              "<Figure size 432x288 with 1 Axes>"
            ],
            "image/png": "[encoded data removed]"
          },
          "metadata": {
            "needs_background": "light"
          }
        }
      ]
    },
    {
      "cell_type": "code",
      "source": [
        "df.corr() #correlation coefficients"
      ],
      "metadata": {
        "colab": {
          "base_uri": "https://localhost:8080/",
          "height": 112
        },
        "id": "9x84T7ASvHo4",
        "outputId": "d22e32e6-d159-4d21-ab91-0e47f7d7cb41"
      },
      "id": "9x84T7ASvHo4",
      "execution_count": null,
      "outputs": [
        {
          "output_type": "execute_result",
          "data": {
            "text/plain": [
              "           input    output\n",
              "input   1.000000  0.511731\n",
              "output  0.511731  1.000000"
            ],
            "text/html": [
              "\n",
              "  <div id=\"df-082a282c-63ff-4682-ab0a-ee69ab35b259\">\n",
              "    <div class=\"colab-df-container\">\n",
              "      <div>\n",
              "<style scoped>\n",
              "    .dataframe tbody tr th:only-of-type {\n",
              "        vertical-align: middle;\n",
              "    }\n",
              "\n",
              "    .dataframe tbody tr th {\n",
              "        vertical-align: top;\n",
              "    }\n",
              "\n",
              "    .dataframe thead th {\n",
              "        text-align: right;\n",
              "    }\n",
              "</style>\n",
              "<table border=\"1\" class=\"dataframe\">\n",
              "  <thead>\n",
              "    <tr style=\"text-align: right;\">\n",
              "      <th></th>\n",
              "      <th>input</th>\n",
              "      <th>output</th>\n",
              "    </tr>\n",
              "  </thead>\n",
              "  <tbody>\n",
              "    <tr>\n",
              "      <th>input</th>\n",
              "      <td>1.000000</td>\n",
              "      <td>0.511731</td>\n",
              "    </tr>\n",
              "    <tr>\n",
              "      <th>output</th>\n",
              "      <td>0.511731</td>\n",
              "      <td>1.000000</td>\n",
              "    </tr>\n",
              "  </tbody>\n",
              "</table>\n",
              "</div>\n",
              "      <button class=\"colab-df-convert\" onclick=\"convertToInteractive('df-082a282c-63ff-4682-ab0a-ee69ab35b259')\"\n",
              "              title=\"Convert this dataframe to an interactive table.\"\n",
              "              style=\"display:none;\">\n",
              "        \n",
              "  <svg xmlns=\"http://www.w3.org/2000/svg\" height=\"24px\"viewBox=\"0 0 24 24\"\n",
              "       width=\"24px\">\n",
              "    <path d=\"M0 0h24v24H0V0z\" fill=\"none\"/>\n",
              "    <path d=\"M18.56 5.44l.94 2.06.94-2.06 2.06-.94-2.06-.94-.94-2.06-.94 2.06-2.06.94zm-11 1L8.5 8.5l.94-2.06 2.06-.94-2.06-.94L8.5 2.5l-.94 2.06-2.06.94zm10 10l.94 2.06.94-2.06 2.06-.94-2.06-.94-.94-2.06-.94 2.06-2.06.94z\"/><path d=\"M17.41 7.96l-1.37-1.37c-.4-.4-.92-.59-1.43-.59-.52 0-1.04.2-1.43.59L10.3 9.45l-7.72 7.72c-.78.78-.78 2.05 0 2.83L4 21.41c.39.39.9.59 1.41.59.51 0 1.02-.2 1.41-.59l7.78-7.78 2.81-2.81c.8-.78.8-2.07 0-2.86zM5.41 20L4 18.59l7.72-7.72 1.47 1.35L5.41 20z\"/>\n",
              "  </svg>\n",
              "      </button>\n",
              "      \n",
              "  <style>\n",
              "    .colab-df-container {\n",
              "      display:flex;\n",
              "      flex-wrap:wrap;\n",
              "      gap: 12px;\n",
              "    }\n",
              "\n",
              "    .colab-df-convert {\n",
              "      background-color: #E8F0FE;\n",
              "      border: none;\n",
              "      border-radius: 50%;\n",
              "      cursor: pointer;\n",
              "      display: none;\n",
              "      fill: #1967D2;\n",
              "      height: 32px;\n",
              "      padding: 0 0 0 0;\n",
              "      width: 32px;\n",
              "    }\n",
              "\n",
              "    .colab-df-convert:hover {\n",
              "      background-color: #E2EBFA;\n",
              "      box-shadow: 0px 1px 2px rgba(60, 64, 67, 0.3), 0px 1px 3px 1px rgba(60, 64, 67, 0.15);\n",
              "      fill: #174EA6;\n",
              "    }\n",
              "\n",
              "    [theme=dark] .colab-df-convert {\n",
              "      background-color: #3B4455;\n",
              "      fill: #D2E3FC;\n",
              "    }\n",
              "\n",
              "    [theme=dark] .colab-df-convert:hover {\n",
              "      background-color: #434B5C;\n",
              "      box-shadow: 0px 1px 3px 1px rgba(0, 0, 0, 0.15);\n",
              "      filter: drop-shadow(0px 1px 2px rgba(0, 0, 0, 0.3));\n",
              "      fill: #FFFFFF;\n",
              "    }\n",
              "  </style>\n",
              "\n",
              "      <script>\n",
              "        const buttonEl =\n",
              "          document.querySelector('#df-082a282c-63ff-4682-ab0a-ee69ab35b259 button.colab-df-convert');\n",
              "        buttonEl.style.display =\n",
              "          google.colab.kernel.accessAllowed ? 'block' : 'none';\n",
              "\n",
              "        async function convertToInteractive(key) {\n",
              "          const element = document.querySelector('#df-082a282c-63ff-4682-ab0a-ee69ab35b259');\n",
              "          const dataTable =\n",
              "            await google.colab.kernel.invokeFunction('convertToInteractive',\n",
              "                                                     [key], {});\n",
              "          if (!dataTable) return;\n",
              "\n",
              "          const docLinkHtml = 'Like what you see? Visit the ' +\n",
              "            '<a target=\"_blank\" href=https://colab.research.google.com/notebooks/data_table.ipynb>data table notebook</a>'\n",
              "            + ' to learn more about interactive tables.';\n",
              "          element.innerHTML = '';\n",
              "          dataTable['output_type'] = 'display_data';\n",
              "          await google.colab.output.renderOutput(dataTable, element);\n",
              "          const docLink = document.createElement('div');\n",
              "          docLink.innerHTML = docLinkHtml;\n",
              "          element.appendChild(docLink);\n",
              "        }\n",
              "      </script>\n",
              "    </div>\n",
              "  </div>\n",
              "  "
            ]
          },
          "metadata": {},
          "execution_count": 32
        }
      ]
    },
    {
      "cell_type": "markdown",
      "source": [
        "## Outliers detection \n",
        "<a class=\"anchor\" id=\"od\"></a>    "
      ],
      "metadata": {
        "id": "lxfv3WAOhfIy"
      },
      "id": "lxfv3WAOhfIy"
    },
    {
      "cell_type": "code",
      "source": [
        "# outlier detection using boxplot\n",
        "fig, ax= plt.subplots(1,2, figsize=(10,5));\n",
        "fig.suptitle(\"Outliers visualization\");\n",
        "\n",
        "sb.boxplot(data=df_ml, x='input', ax =ax[0]);\n",
        "ax[0].set_title(\"Input Outliers\");\n",
        "\n",
        "sb.boxplot(data=df_ml, x='output', ax=ax[1]);\n",
        "ax[1].set_title('Output outliers');\n"
      ],
      "metadata": {
        "colab": {
          "base_uri": "https://localhost:8080/",
          "height": 370
        },
        "id": "zt56izx1WT-w",
        "outputId": "402eea49-b464-4c57-8e7d-20b3b79a4ff9"
      },
      "id": "zt56izx1WT-w",
      "execution_count": 26,
      "outputs": [
        {
          "output_type": "display_data",
          "data": {
            "text/plain": [
              "<Figure size 720x360 with 2 Axes>"
            ],
            "image/png": "[encoded data removed]"
          },
          "metadata": {
            "needs_background": "light"
          }
        }
      ]
    },
    {
      "cell_type": "markdown",
      "source": [
        "The graph shows that the input datasets is a lot more concentrated above the median in comparison to the output datasets being more distributed below the median point. Additionally, there are also outliers present in the output datasets which would need to be further examined and taken care of."
      ],
      "metadata": {
        "id": "niJYD2hQh4YD"
      },
      "id": "niJYD2hQh4YD"
    },
    {
      "cell_type": "markdown",
      "source": [
        "### Outlier Treatment \n",
        "<a class=\"anchor\" id=\"ot\"></a>   "
      ],
      "metadata": {
        "id": "RgDdJIx5it9b"
      },
      "id": "RgDdJIx5it9b"
    },
    {
      "cell_type": "code",
      "source": [
        "def outlier_handler(df):\n",
        "  ''' Using IQR method for detecting and capping outliers'''\n",
        "  # obtaining IQR\n",
        "  Q1 = df['output'].quantile(0.25)\n",
        "  Q3 = df['output'].quantile(0.75)\n",
        "  IQR = Q3 - Q1\n",
        "  upper_limit = Q3 + 1.5 * IQR\n",
        "  lower_limit = Q1 - 1.5 * IQR\n",
        "\n",
        "# Capping outlier\n",
        "  \n",
        "  df_ml['output'] = np.where(\n",
        "    df_ml['output'] > upper_limit,\n",
        "    upper_limit,\n",
        "    np.where(\n",
        "        df_ml['output'] < lower_limit,\n",
        "        lower_limit,\n",
        "        df_ml['output']\n",
        "    )\n",
        "  )\n",
        "\n",
        "  return df_ml\n",
        "df_ml = outlier_handler(df_ml)"
      ],
      "metadata": {
        "id": "O9DD1nJmYlK7"
      },
      "id": "O9DD1nJmYlK7",
      "execution_count": 31,
      "outputs": []
    },
    {
      "cell_type": "code",
      "source": [
        "# Confirming outlier treatment\n",
        "plt.figure(figsize=[10,8]);\n",
        "df_ml.plot(kind='box');\n",
        "plt.show()"
      ],
      "metadata": {
        "colab": {
          "base_uri": "https://localhost:8080/",
          "height": 282
        },
        "id": "H0N52FGGj3Vl",
        "outputId": "9b7efa6e-bc1f-4d8f-a741-efe5273ebe50"
      },
      "id": "H0N52FGGj3Vl",
      "execution_count": 34,
      "outputs": [
        {
          "output_type": "display_data",
          "data": {
            "text/plain": [
              "<Figure size 720x576 with 0 Axes>"
            ]
          },
          "metadata": {}
        },
        {
          "output_type": "display_data",
          "data": {
            "text/plain": [
              "<Figure size 432x288 with 1 Axes>"
            ],
            "image/png": "[encoded data removed]"
          },
          "metadata": {
            "needs_background": "light"
          }
        }
      ]
    },
    {
      "cell_type": "markdown",
      "source": [
        "It is apparent that the extreme values in the produced datasets have been handled appropriately, thus providing us with an ideal dataset for our machine learning program."
      ],
      "metadata": {
        "id": "ZKhEKnvPlNZT"
      },
      "id": "ZKhEKnvPlNZT"
    },
    {
      "cell_type": "markdown",
      "source": [
        "## Obtaining ML model \n",
        "<a class=\"anchor\" id=\"omm\"></a>  "
      ],
      "metadata": {
        "id": "WjItiBNiYWyr"
      },
      "id": "WjItiBNiYWyr"
    },
    {
      "cell_type": "markdown",
      "source": [
        "We will commence by acquiring our datasets for training and evaluation purposes, with 80% of the datasets being utilized for training."
      ],
      "metadata": {
        "id": "F8oFnYBMnCh8"
      },
      "id": "F8oFnYBMnCh8"
    },
    {
      "cell_type": "code",
      "source": [
        "# Extracting model training datasets\n",
        "x = df_ml.input\n",
        "y = df_ml.output\n",
        "x_train, x_test, y_train, y_test = train_test_split(x,y,test_size=0.2, random_state=100)"
      ],
      "metadata": {
        "id": "nE6D5svW_0w5"
      },
      "id": "nE6D5svW_0w5",
      "execution_count": 37,
      "outputs": []
    },
    {
      "cell_type": "markdown",
      "source": [
        "The format of our data sets depicts a 1D array after the split operation, which would bring about a mistake. Subsequently, as a precautionary measure, we will rearrange it into a 2D-array for further examination."
      ],
      "metadata": {
        "id": "rbFcLnpMnqmV"
      },
      "id": "rbFcLnpMnqmV"
    },
    {
      "cell_type": "markdown",
      "source": [
        "### Reshaping 1D to 2D array \n",
        "<a class=\"anchor\" id=\"ar\"></a>  "
      ],
      "metadata": {
        "id": "o2G_meU2FA0j"
      },
      "id": "o2G_meU2FA0j"
    },
    {
      "cell_type": "code",
      "source": [
        "# Reshaping arrays\n",
        "x_train = x_train.values.reshape(-1,1)\n",
        "y_train = y_train.values.reshape(-1,1)\n",
        "\n",
        "x_test = x_test.values.reshape(-1,1)\n",
        "y_test = y_test.values.reshape(-1,1)"
      ],
      "metadata": {
        "id": "8AlUFbyREzAJ"
      },
      "id": "8AlUFbyREzAJ",
      "execution_count": 38,
      "outputs": []
    },
    {
      "cell_type": "markdown",
      "source": [
        "### Linear Regression\n",
        "<a class=\"anchor\" id=\"lr\"></a>                                  \n",
        "       "
      ],
      "metadata": {
        "id": "2KfNAwJtdxiE"
      },
      "id": "2KfNAwJtdxiE"
    },
    {
      "cell_type": "code",
      "source": [
        "# init\n",
        "lr = LinearRegression()"
      ],
      "metadata": {
        "id": "H8VCHPqXZ6E8"
      },
      "id": "H8VCHPqXZ6E8",
      "execution_count": 39,
      "outputs": []
    },
    {
      "cell_type": "markdown",
      "source": [
        "#### Training model based on Linear Regression\n",
        "\n",
        "<a class=\"anchor\" id=\"mtl\"></a>                                    \n"
      ],
      "metadata": {
        "id": "m7Q0Brd5p70l"
      },
      "id": "m7Q0Brd5p70l"
    },
    {
      "cell_type": "code",
      "source": [
        "# Obtaining line of fit\n",
        "lr.fit(x_train,y_train)"
      ],
      "metadata": {
        "colab": {
          "base_uri": "https://localhost:8080/"
        },
        "id": "D0CgdkL2Z7sa",
        "outputId": "18f8f4d8-eb30-4f2b-81ed-506520d6115b"
      },
      "id": "D0CgdkL2Z7sa",
      "execution_count": 40,
      "outputs": [
        {
          "output_type": "execute_result",
          "data": {
            "text/plain": [
              "LinearRegression()"
            ]
          },
          "metadata": {},
          "execution_count": 40
        }
      ]
    },
    {
      "cell_type": "markdown",
      "source": [
        "#### Making Predictions\n",
        "\n",
        "<a class=\"anchor\" id=\"mpl\"></a>            \n",
        "       "
      ],
      "metadata": {
        "id": "yAQ_UaItGpYU"
      },
      "id": "yAQ_UaItGpYU"
    },
    {
      "cell_type": "code",
      "source": [
        "y_lr_train_pred = lr.predict(x_train)\n",
        "y_lr_test_pred = lr.predict(x_test)"
      ],
      "metadata": {
        "id": "xlaszoyLp5-d"
      },
      "id": "xlaszoyLp5-d",
      "execution_count": 41,
      "outputs": []
    },
    {
      "cell_type": "markdown",
      "source": [
        "#### Evaluate model performance\n",
        "<a class=\"anchor\" id=\"mpel\"></a>             \n",
        "        "
      ],
      "metadata": {
        "id": "RkaxC5bKR7Mg"
      },
      "id": "RkaxC5bKR7Mg"
    },
    {
      "cell_type": "code",
      "source": [
        "# train vs train predicted\n",
        "lr_train_mse = mean_squared_error(y_train,y_lr_train_pred)\n",
        "lr_train_r2 = r2_score(y_train,y_lr_train_pred)\n",
        "\n",
        "# test vs test predicted\n",
        "lr_test_mse = mean_squared_error(y_test,y_lr_test_pred)\n",
        "lr_test_r2 = r2_score(y_test,y_lr_test_pred)"
      ],
      "metadata": {
        "id": "muk2kTmRSMG9"
      },
      "id": "muk2kTmRSMG9",
      "execution_count": 44,
      "outputs": []
    },
    {
      "cell_type": "code",
      "source": [
        "# Dataframe of evaluation score\n",
        "lr_results = pd.DataFrame(('Linear Regression',lr_train_mse,lr_train_r2,lr_test_mse,lr_test_r2)).transpose()\n",
        "lr_results.columns = ['Method','Training_MSE','Training_R2','Test_MSE','Test_R2']\n",
        "lr_results"
      ],
      "metadata": {
        "id": "Cq_JnMz0TWeS",
        "colab": {
          "base_uri": "https://localhost:8080/",
          "height": 81
        },
        "outputId": "d5ab4615-ed82-43a4-c5d3-82e31fd7f656"
      },
      "id": "Cq_JnMz0TWeS",
      "execution_count": 45,
      "outputs": [
        {
          "output_type": "execute_result",
          "data": {
            "text/plain": [
              "              Method Training_MSE Training_R2     Test_MSE   Test_R2\n",
              "0  Linear Regression  2649.496874    0.299139  2748.758381  0.250793"
            ],
            "text/html": [
              "\n",
              "  <div id=\"df-7525bdb8-b3e6-4200-a0bd-512e51693dfa\">\n",
              "    <div class=\"colab-df-container\">\n",
              "      <div>\n",
              "<style scoped>\n",
              "    .dataframe tbody tr th:only-of-type {\n",
              "        vertical-align: middle;\n",
              "    }\n",
              "\n",
              "    .dataframe tbody tr th {\n",
              "        vertical-align: top;\n",
              "    }\n",
              "\n",
              "    .dataframe thead th {\n",
              "        text-align: right;\n",
              "    }\n",
              "</style>\n",
              "<table border=\"1\" class=\"dataframe\">\n",
              "  <thead>\n",
              "    <tr style=\"text-align: right;\">\n",
              "      <th></th>\n",
              "      <th>Method</th>\n",
              "      <th>Training_MSE</th>\n",
              "      <th>Training_R2</th>\n",
              "      <th>Test_MSE</th>\n",
              "      <th>Test_R2</th>\n",
              "    </tr>\n",
              "  </thead>\n",
              "  <tbody>\n",
              "    <tr>\n",
              "      <th>0</th>\n",
              "      <td>Linear Regression</td>\n",
              "      <td>2649.496874</td>\n",
              "      <td>0.299139</td>\n",
              "      <td>2748.758381</td>\n",
              "      <td>0.250793</td>\n",
              "    </tr>\n",
              "  </tbody>\n",
              "</table>\n",
              "</div>\n",
              "      <button class=\"colab-df-convert\" onclick=\"convertToInteractive('df-7525bdb8-b3e6-4200-a0bd-512e51693dfa')\"\n",
              "              title=\"Convert this dataframe to an interactive table.\"\n",
              "              style=\"display:none;\">\n",
              "        \n",
              "  <svg xmlns=\"http://www.w3.org/2000/svg\" height=\"24px\"viewBox=\"0 0 24 24\"\n",
              "       width=\"24px\">\n",
              "    <path d=\"M0 0h24v24H0V0z\" fill=\"none\"/>\n",
              "    <path d=\"M18.56 5.44l.94 2.06.94-2.06 2.06-.94-2.06-.94-.94-2.06-.94 2.06-2.06.94zm-11 1L8.5 8.5l.94-2.06 2.06-.94-2.06-.94L8.5 2.5l-.94 2.06-2.06.94zm10 10l.94 2.06.94-2.06 2.06-.94-2.06-.94-.94-2.06-.94 2.06-2.06.94z\"/><path d=\"M17.41 7.96l-1.37-1.37c-.4-.4-.92-.59-1.43-.59-.52 0-1.04.2-1.43.59L10.3 9.45l-7.72 7.72c-.78.78-.78 2.05 0 2.83L4 21.41c.39.39.9.59 1.41.59.51 0 1.02-.2 1.41-.59l7.78-7.78 2.81-2.81c.8-.78.8-2.07 0-2.86zM5.41 20L4 18.59l7.72-7.72 1.47 1.35L5.41 20z\"/>\n",
              "  </svg>\n",
              "      </button>\n",
              "      \n",
              "  <style>\n",
              "    .colab-df-container {\n",
              "      display:flex;\n",
              "      flex-wrap:wrap;\n",
              "      gap: 12px;\n",
              "    }\n",
              "\n",
              "    .colab-df-convert {\n",
              "      background-color: #E8F0FE;\n",
              "      border: none;\n",
              "      border-radius: 50%;\n",
              "      cursor: pointer;\n",
              "      display: none;\n",
              "      fill: #1967D2;\n",
              "      height: 32px;\n",
              "      padding: 0 0 0 0;\n",
              "      width: 32px;\n",
              "    }\n",
              "\n",
              "    .colab-df-convert:hover {\n",
              "      background-color: #E2EBFA;\n",
              "      box-shadow: 0px 1px 2px rgba(60, 64, 67, 0.3), 0px 1px 3px 1px rgba(60, 64, 67, 0.15);\n",
              "      fill: #174EA6;\n",
              "    }\n",
              "\n",
              "    [theme=dark] .colab-df-convert {\n",
              "      background-color: #3B4455;\n",
              "      fill: #D2E3FC;\n",
              "    }\n",
              "\n",
              "    [theme=dark] .colab-df-convert:hover {\n",
              "      background-color: #434B5C;\n",
              "      box-shadow: 0px 1px 3px 1px rgba(0, 0, 0, 0.15);\n",
              "      filter: drop-shadow(0px 1px 2px rgba(0, 0, 0, 0.3));\n",
              "      fill: #FFFFFF;\n",
              "    }\n",
              "  </style>\n",
              "\n",
              "      <script>\n",
              "        const buttonEl =\n",
              "          document.querySelector('#df-7525bdb8-b3e6-4200-a0bd-512e51693dfa button.colab-df-convert');\n",
              "        buttonEl.style.display =\n",
              "          google.colab.kernel.accessAllowed ? 'block' : 'none';\n",
              "\n",
              "        async function convertToInteractive(key) {\n",
              "          const element = document.querySelector('#df-7525bdb8-b3e6-4200-a0bd-512e51693dfa');\n",
              "          const dataTable =\n",
              "            await google.colab.kernel.invokeFunction('convertToInteractive',\n",
              "                                                     [key], {});\n",
              "          if (!dataTable) return;\n",
              "\n",
              "          const docLinkHtml = 'Like what you see? Visit the ' +\n",
              "            '<a target=\"_blank\" href=https://colab.research.google.com/notebooks/data_table.ipynb>data table notebook</a>'\n",
              "            + ' to learn more about interactive tables.';\n",
              "          element.innerHTML = '';\n",
              "          dataTable['output_type'] = 'display_data';\n",
              "          await google.colab.output.renderOutput(dataTable, element);\n",
              "          const docLink = document.createElement('div');\n",
              "          docLink.innerHTML = docLinkHtml;\n",
              "          element.appendChild(docLink);\n",
              "        }\n",
              "      </script>\n",
              "    </div>\n",
              "  </div>\n",
              "  "
            ]
          },
          "metadata": {},
          "execution_count": 45
        }
      ]
    },
    {
      "cell_type": "markdown",
      "source": [
        "### Random Forest\n",
        "<a class=\"anchor\" id=\"rf\"></a>            \n",
        "                        \n"
      ],
      "metadata": {
        "id": "Sa11KhXRUc9y"
      },
      "id": "Sa11KhXRUc9y"
    },
    {
      "cell_type": "code",
      "source": [
        "# init\n",
        "rf = RandomForestRegressor(max_depth=2,random_state=100)"
      ],
      "metadata": {
        "id": "sHNMymFrUauU"
      },
      "id": "sHNMymFrUauU",
      "execution_count": 47,
      "outputs": []
    },
    {
      "cell_type": "markdown",
      "source": [
        "#### Train model based on Random Forest\n",
        "\n",
        "<a class=\"anchor\" id=\"mtr\"></a>             \n",
        "                      "
      ],
      "metadata": {
        "id": "1J9xok3rU942"
      },
      "id": "1J9xok3rU942"
    },
    {
      "cell_type": "code",
      "source": [
        "rf.fit(x_train,y_train)"
      ],
      "metadata": {
        "colab": {
          "base_uri": "https://localhost:8080/"
        },
        "id": "XYOkXKjJUtx5",
        "outputId": "e0569f6a-ab0d-4ffb-ca99-bc55f3786579"
      },
      "id": "XYOkXKjJUtx5",
      "execution_count": 48,
      "outputs": [
        {
          "output_type": "stream",
          "name": "stderr",
          "text": [
            "<ipython-input-48-895403b03771>:1: DataConversionWarning: A column-vector y was passed when a 1d array was expected. Please change the shape of y to (n_samples,), for example using ravel().\n",
            "  rf.fit(x_train,y_train)\n"
          ]
        },
        {
          "output_type": "execute_result",
          "data": {
            "text/plain": [
              "RandomForestRegressor(max_depth=2, random_state=100)"
            ]
          },
          "metadata": {},
          "execution_count": 48
        }
      ]
    },
    {
      "cell_type": "markdown",
      "source": [
        "#### Applying model to make predictions\n",
        "\n",
        "<a class=\"anchor\" id=\"mpr\"></a>             \n",
        "                              "
      ],
      "metadata": {
        "id": "Kfs0XOGhVkZa"
      },
      "id": "Kfs0XOGhVkZa"
    },
    {
      "cell_type": "code",
      "source": [
        "y_rf_train_pred = rf.predict(x_train)\n",
        "y_rf_test_pred = rf.predict(x_test)"
      ],
      "metadata": {
        "id": "0lVx0cnEVhz7"
      },
      "id": "0lVx0cnEVhz7",
      "execution_count": 49,
      "outputs": []
    },
    {
      "cell_type": "markdown",
      "source": [
        "#### Evaluate model performance\n",
        "\n",
        "<a class=\"anchor\" id=\"mper\"></a>             \n",
        "      "
      ],
      "metadata": {
        "id": "hfXKc985V60O"
      },
      "id": "hfXKc985V60O"
    },
    {
      "cell_type": "code",
      "source": [
        "# train vs train predicted\n",
        "rf_train_mse = mean_squared_error(y_train, y_rf_train_pred)\n",
        "rf_train_r2 = r2_score(y_train,y_rf_train_pred)\n",
        "\n",
        "# test vs test predicted\n",
        "rf_test_mse = mean_squared_error(y_test, y_rf_test_pred)\n",
        "rf_test_r2 = r2_score(y_test,y_rf_test_pred)"
      ],
      "metadata": {
        "id": "eTXD7n-9V_h8"
      },
      "id": "eTXD7n-9V_h8",
      "execution_count": 50,
      "outputs": []
    },
    {
      "cell_type": "code",
      "source": [
        "# score evaluation dataframe\n",
        "rf_results = pd.DataFrame(('Random Forest',rf_train_mse,rf_train_r2,rf_test_mse,rf_test_r2)).transpose()\n",
        "rf_results.columns = ['Method','Training_MSE','Training_R2','Test_MSE','Test_R2']\n",
        "rf_results"
      ],
      "metadata": {
        "id": "Z3EKRuERV_fK",
        "colab": {
          "base_uri": "https://localhost:8080/",
          "height": 81
        },
        "outputId": "fa4781ab-a567-4114-eaed-36db71d6c081"
      },
      "id": "Z3EKRuERV_fK",
      "execution_count": 52,
      "outputs": [
        {
          "output_type": "execute_result",
          "data": {
            "text/plain": [
              "          Method Training_MSE Training_R2     Test_MSE   Test_R2\n",
              "0  Random Forest  1204.706336    0.681324  1396.872668  0.619266"
            ],
            "text/html": [
              "\n",
              "  <div id=\"df-14bf7265-2b07-441c-ab1d-b5bc6f9c798d\">\n",
              "    <div class=\"colab-df-container\">\n",
              "      <div>\n",
              "<style scoped>\n",
              "    .dataframe tbody tr th:only-of-type {\n",
              "        vertical-align: middle;\n",
              "    }\n",
              "\n",
              "    .dataframe tbody tr th {\n",
              "        vertical-align: top;\n",
              "    }\n",
              "\n",
              "    .dataframe thead th {\n",
              "        text-align: right;\n",
              "    }\n",
              "</style>\n",
              "<table border=\"1\" class=\"dataframe\">\n",
              "  <thead>\n",
              "    <tr style=\"text-align: right;\">\n",
              "      <th></th>\n",
              "      <th>Method</th>\n",
              "      <th>Training_MSE</th>\n",
              "      <th>Training_R2</th>\n",
              "      <th>Test_MSE</th>\n",
              "      <th>Test_R2</th>\n",
              "    </tr>\n",
              "  </thead>\n",
              "  <tbody>\n",
              "    <tr>\n",
              "      <th>0</th>\n",
              "      <td>Random Forest</td>\n",
              "      <td>1204.706336</td>\n",
              "      <td>0.681324</td>\n",
              "      <td>1396.872668</td>\n",
              "      <td>0.619266</td>\n",
              "    </tr>\n",
              "  </tbody>\n",
              "</table>\n",
              "</div>\n",
              "      <button class=\"colab-df-convert\" onclick=\"convertToInteractive('df-14bf7265-2b07-441c-ab1d-b5bc6f9c798d')\"\n",
              "              title=\"Convert this dataframe to an interactive table.\"\n",
              "              style=\"display:none;\">\n",
              "        \n",
              "  <svg xmlns=\"http://www.w3.org/2000/svg\" height=\"24px\"viewBox=\"0 0 24 24\"\n",
              "       width=\"24px\">\n",
              "    <path d=\"M0 0h24v24H0V0z\" fill=\"none\"/>\n",
              "    <path d=\"M18.56 5.44l.94 2.06.94-2.06 2.06-.94-2.06-.94-.94-2.06-.94 2.06-2.06.94zm-11 1L8.5 8.5l.94-2.06 2.06-.94-2.06-.94L8.5 2.5l-.94 2.06-2.06.94zm10 10l.94 2.06.94-2.06 2.06-.94-2.06-.94-.94-2.06-.94 2.06-2.06.94z\"/><path d=\"M17.41 7.96l-1.37-1.37c-.4-.4-.92-.59-1.43-.59-.52 0-1.04.2-1.43.59L10.3 9.45l-7.72 7.72c-.78.78-.78 2.05 0 2.83L4 21.41c.39.39.9.59 1.41.59.51 0 1.02-.2 1.41-.59l7.78-7.78 2.81-2.81c.8-.78.8-2.07 0-2.86zM5.41 20L4 18.59l7.72-7.72 1.47 1.35L5.41 20z\"/>\n",
              "  </svg>\n",
              "      </button>\n",
              "      \n",
              "  <style>\n",
              "    .colab-df-container {\n",
              "      display:flex;\n",
              "      flex-wrap:wrap;\n",
              "      gap: 12px;\n",
              "    }\n",
              "\n",
              "    .colab-df-convert {\n",
              "      background-color: #E8F0FE;\n",
              "      border: none;\n",
              "      border-radius: 50%;\n",
              "      cursor: pointer;\n",
              "      display: none;\n",
              "      fill: #1967D2;\n",
              "      height: 32px;\n",
              "      padding: 0 0 0 0;\n",
              "      width: 32px;\n",
              "    }\n",
              "\n",
              "    .colab-df-convert:hover {\n",
              "      background-color: #E2EBFA;\n",
              "      box-shadow: 0px 1px 2px rgba(60, 64, 67, 0.3), 0px 1px 3px 1px rgba(60, 64, 67, 0.15);\n",
              "      fill: #174EA6;\n",
              "    }\n",
              "\n",
              "    [theme=dark] .colab-df-convert {\n",
              "      background-color: #3B4455;\n",
              "      fill: #D2E3FC;\n",
              "    }\n",
              "\n",
              "    [theme=dark] .colab-df-convert:hover {\n",
              "      background-color: #434B5C;\n",
              "      box-shadow: 0px 1px 3px 1px rgba(0, 0, 0, 0.15);\n",
              "      filter: drop-shadow(0px 1px 2px rgba(0, 0, 0, 0.3));\n",
              "      fill: #FFFFFF;\n",
              "    }\n",
              "  </style>\n",
              "\n",
              "      <script>\n",
              "        const buttonEl =\n",
              "          document.querySelector('#df-14bf7265-2b07-441c-ab1d-b5bc6f9c798d button.colab-df-convert');\n",
              "        buttonEl.style.display =\n",
              "          google.colab.kernel.accessAllowed ? 'block' : 'none';\n",
              "\n",
              "        async function convertToInteractive(key) {\n",
              "          const element = document.querySelector('#df-14bf7265-2b07-441c-ab1d-b5bc6f9c798d');\n",
              "          const dataTable =\n",
              "            await google.colab.kernel.invokeFunction('convertToInteractive',\n",
              "                                                     [key], {});\n",
              "          if (!dataTable) return;\n",
              "\n",
              "          const docLinkHtml = 'Like what you see? Visit the ' +\n",
              "            '<a target=\"_blank\" href=https://colab.research.google.com/notebooks/data_table.ipynb>data table notebook</a>'\n",
              "            + ' to learn more about interactive tables.';\n",
              "          element.innerHTML = '';\n",
              "          dataTable['output_type'] = 'display_data';\n",
              "          await google.colab.output.renderOutput(dataTable, element);\n",
              "          const docLink = document.createElement('div');\n",
              "          docLink.innerHTML = docLinkHtml;\n",
              "          element.appendChild(docLink);\n",
              "        }\n",
              "      </script>\n",
              "    </div>\n",
              "  </div>\n",
              "  "
            ]
          },
          "metadata": {},
          "execution_count": 52
        }
      ]
    },
    {
      "cell_type": "markdown",
      "source": [
        "#### Comparing Models\n",
        "<a class=\"anchor\" id=\"cm\"></a>             \n",
        "                            "
      ],
      "metadata": {
        "id": "8JOqoPkIXXih"
      },
      "id": "8JOqoPkIXXih"
    },
    {
      "cell_type": "code",
      "source": [
        "models = pd.concat([lr_results,rf_results], axis=0).reset_index(drop=True)\n",
        "models"
      ],
      "metadata": {
        "id": "xG7YVWRCXcJq",
        "colab": {
          "base_uri": "https://localhost:8080/",
          "height": 112
        },
        "outputId": "703cc353-ae8d-4038-b884-ab0dcaa5715a"
      },
      "id": "xG7YVWRCXcJq",
      "execution_count": 53,
      "outputs": [
        {
          "output_type": "execute_result",
          "data": {
            "text/plain": [
              "              Method Training_MSE Training_R2     Test_MSE   Test_R2\n",
              "0  Linear Regression  2649.496874    0.299139  2748.758381  0.250793\n",
              "1      Random Forest  1204.706336    0.681324  1396.872668  0.619266"
            ],
            "text/html": [
              "\n",
              "  <div id=\"df-33bc0c9b-5c01-4052-afc7-f25fd26784ef\">\n",
              "    <div class=\"colab-df-container\">\n",
              "      <div>\n",
              "<style scoped>\n",
              "    .dataframe tbody tr th:only-of-type {\n",
              "        vertical-align: middle;\n",
              "    }\n",
              "\n",
              "    .dataframe tbody tr th {\n",
              "        vertical-align: top;\n",
              "    }\n",
              "\n",
              "    .dataframe thead th {\n",
              "        text-align: right;\n",
              "    }\n",
              "</style>\n",
              "<table border=\"1\" class=\"dataframe\">\n",
              "  <thead>\n",
              "    <tr style=\"text-align: right;\">\n",
              "      <th></th>\n",
              "      <th>Method</th>\n",
              "      <th>Training_MSE</th>\n",
              "      <th>Training_R2</th>\n",
              "      <th>Test_MSE</th>\n",
              "      <th>Test_R2</th>\n",
              "    </tr>\n",
              "  </thead>\n",
              "  <tbody>\n",
              "    <tr>\n",
              "      <th>0</th>\n",
              "      <td>Linear Regression</td>\n",
              "      <td>2649.496874</td>\n",
              "      <td>0.299139</td>\n",
              "      <td>2748.758381</td>\n",
              "      <td>0.250793</td>\n",
              "    </tr>\n",
              "    <tr>\n",
              "      <th>1</th>\n",
              "      <td>Random Forest</td>\n",
              "      <td>1204.706336</td>\n",
              "      <td>0.681324</td>\n",
              "      <td>1396.872668</td>\n",
              "      <td>0.619266</td>\n",
              "    </tr>\n",
              "  </tbody>\n",
              "</table>\n",
              "</div>\n",
              "      <button class=\"colab-df-convert\" onclick=\"convertToInteractive('df-33bc0c9b-5c01-4052-afc7-f25fd26784ef')\"\n",
              "              title=\"Convert this dataframe to an interactive table.\"\n",
              "              style=\"display:none;\">\n",
              "        \n",
              "  <svg xmlns=\"http://www.w3.org/2000/svg\" height=\"24px\"viewBox=\"0 0 24 24\"\n",
              "       width=\"24px\">\n",
              "    <path d=\"M0 0h24v24H0V0z\" fill=\"none\"/>\n",
              "    <path d=\"M18.56 5.44l.94 2.06.94-2.06 2.06-.94-2.06-.94-.94-2.06-.94 2.06-2.06.94zm-11 1L8.5 8.5l.94-2.06 2.06-.94-2.06-.94L8.5 2.5l-.94 2.06-2.06.94zm10 10l.94 2.06.94-2.06 2.06-.94-2.06-.94-.94-2.06-.94 2.06-2.06.94z\"/><path d=\"M17.41 7.96l-1.37-1.37c-.4-.4-.92-.59-1.43-.59-.52 0-1.04.2-1.43.59L10.3 9.45l-7.72 7.72c-.78.78-.78 2.05 0 2.83L4 21.41c.39.39.9.59 1.41.59.51 0 1.02-.2 1.41-.59l7.78-7.78 2.81-2.81c.8-.78.8-2.07 0-2.86zM5.41 20L4 18.59l7.72-7.72 1.47 1.35L5.41 20z\"/>\n",
              "  </svg>\n",
              "      </button>\n",
              "      \n",
              "  <style>\n",
              "    .colab-df-container {\n",
              "      display:flex;\n",
              "      flex-wrap:wrap;\n",
              "      gap: 12px;\n",
              "    }\n",
              "\n",
              "    .colab-df-convert {\n",
              "      background-color: #E8F0FE;\n",
              "      border: none;\n",
              "      border-radius: 50%;\n",
              "      cursor: pointer;\n",
              "      display: none;\n",
              "      fill: #1967D2;\n",
              "      height: 32px;\n",
              "      padding: 0 0 0 0;\n",
              "      width: 32px;\n",
              "    }\n",
              "\n",
              "    .colab-df-convert:hover {\n",
              "      background-color: #E2EBFA;\n",
              "      box-shadow: 0px 1px 2px rgba(60, 64, 67, 0.3), 0px 1px 3px 1px rgba(60, 64, 67, 0.15);\n",
              "      fill: #174EA6;\n",
              "    }\n",
              "\n",
              "    [theme=dark] .colab-df-convert {\n",
              "      background-color: #3B4455;\n",
              "      fill: #D2E3FC;\n",
              "    }\n",
              "\n",
              "    [theme=dark] .colab-df-convert:hover {\n",
              "      background-color: #434B5C;\n",
              "      box-shadow: 0px 1px 3px 1px rgba(0, 0, 0, 0.15);\n",
              "      filter: drop-shadow(0px 1px 2px rgba(0, 0, 0, 0.3));\n",
              "      fill: #FFFFFF;\n",
              "    }\n",
              "  </style>\n",
              "\n",
              "      <script>\n",
              "        const buttonEl =\n",
              "          document.querySelector('#df-33bc0c9b-5c01-4052-afc7-f25fd26784ef button.colab-df-convert');\n",
              "        buttonEl.style.display =\n",
              "          google.colab.kernel.accessAllowed ? 'block' : 'none';\n",
              "\n",
              "        async function convertToInteractive(key) {\n",
              "          const element = document.querySelector('#df-33bc0c9b-5c01-4052-afc7-f25fd26784ef');\n",
              "          const dataTable =\n",
              "            await google.colab.kernel.invokeFunction('convertToInteractive',\n",
              "                                                     [key], {});\n",
              "          if (!dataTable) return;\n",
              "\n",
              "          const docLinkHtml = 'Like what you see? Visit the ' +\n",
              "            '<a target=\"_blank\" href=https://colab.research.google.com/notebooks/data_table.ipynb>data table notebook</a>'\n",
              "            + ' to learn more about interactive tables.';\n",
              "          element.innerHTML = '';\n",
              "          dataTable['output_type'] = 'display_data';\n",
              "          await google.colab.output.renderOutput(dataTable, element);\n",
              "          const docLink = document.createElement('div');\n",
              "          docLink.innerHTML = docLinkHtml;\n",
              "          element.appendChild(docLink);\n",
              "        }\n",
              "      </script>\n",
              "    </div>\n",
              "  </div>\n",
              "  "
            ]
          },
          "metadata": {},
          "execution_count": 53
        }
      ]
    },
    {
      "cell_type": "markdown",
      "source": [
        "## Data visualization between predicted and training\n",
        "\n",
        "<a class=\"anchor\" id=\"tpr\"></a>             "
      ],
      "metadata": {
        "id": "UIn-rq1XZ1m0"
      },
      "id": "UIn-rq1XZ1m0"
    },
    {
      "cell_type": "code",
      "source": [
        "# Linear regression train vs predicted\n",
        "plt.figure(figsize=[10,8]);\n",
        "sb.regplot(x=y_train,y=y_lr_train_pred);\n",
        "plt.xlabel(\"y_train\", fontsize=12);\n",
        "plt.ylabel(\"y_lr_train_pred \\n\", fontsize=12);\n",
        "plt.title(\" Linear Regression (Train vs Predicted)\", fontsize=14);"
      ],
      "metadata": {
        "colab": {
          "base_uri": "https://localhost:8080/",
          "height": 517
        },
        "id": "tDrlKal3Yor8",
        "outputId": "d879bfac-6699-4b62-94bc-2d7c7fce4d2e"
      },
      "id": "tDrlKal3Yor8",
      "execution_count": 63,
      "outputs": [
        {
          "output_type": "display_data",
          "data": {
            "text/plain": [
              "<Figure size 720x576 with 1 Axes>"
            ],
            "image/png": "[encoded data removed]"
          },
          "metadata": {
            "needs_background": "light"
          }
        }
      ]
    },
    {
      "cell_type": "code",
      "source": [
        "# Random forest train vs predicted\n",
        "plt.figure(figsize=[10,8]);\n",
        "sb.regplot(x=y_train,y=y_rf_train_pred);\n",
        "plt.xlabel(\"y_train\", fontsize=12);\n",
        "plt.ylabel(\"y_rf_train_pred \\n\", fontsize=12);\n",
        "plt.title(\"Random Forest (Train vs Predicted)\", fontsize=14);"
      ],
      "metadata": {
        "colab": {
          "base_uri": "https://localhost:8080/",
          "height": 517
        },
        "id": "-HcTz7z-SW2W",
        "outputId": "5121b9b4-22f4-4ec8-a7f5-edc5141411ef"
      },
      "id": "-HcTz7z-SW2W",
      "execution_count": 62,
      "outputs": [
        {
          "output_type": "display_data",
          "data": {
            "text/plain": [
              "<Figure size 720x576 with 1 Axes>"
            ],
            "image/png": "[encoded data removed]"
          },
          "metadata": {
            "needs_background": "light"
          }
        }
      ]
    },
    {
      "cell_type": "markdown",
      "source": [
        "The results provided above are for two different regression models: Linear Regression and Random Forest.\n",
        "\n",
        "The mean squared error (MSE) is a measure of the difference between the actual and predicted values. A lower MSE indicates a better fit. The Training MSE for the Random Forest model is lower (1204.706336) than that of the Linear Regression model (2649.496874), which means the Random Forest model is likely to be a better fit to the training data.\n",
        "\n",
        "The R2 score is a measure of the goodness of fit of a model. It ranges from 0 to 1, with 1 indicating a perfect fit. The Training R2 score for the Random Forest model (0.681324) is higher than that of the Linear Regression model (0.299139), which means the Random Forest model is also likely to provide a better fit to the training data.\n",
        "\n",
        "Same can be seen for the Test MSE and Test R2 score, the Random forest model appears to be better model than the Linear regression model, which suggests that the Random Forest model is still a better fit overall.\n",
        "\n",
        "In conclusion, based on these results, the Random Forest model appears to be a better fit to the data overall.\n"
      ],
      "metadata": {
        "id": "qSaS9X1ZZJGD"
      },
      "id": "qSaS9X1ZZJGD"
    },
    {
      "cell_type": "code",
      "source": [],
      "metadata": {
        "id": "satJaz3NssAE"
      },
      "id": "satJaz3NssAE",
      "execution_count": null,
      "outputs": []
    }
  ],
  "metadata": {
    "kernelspec": {
      "display_name": "Python 3 (ipykernel)",
      "language": "python",
      "name": "python3"
    },
    "language_info": {
      "codemirror_mode": {
        "name": "ipython",
        "version": 3
      },
      "file_extension": ".py",
      "mimetype": "text/x-python",
      "name": "python",
      "nbconvert_exporter": "python",
      "pygments_lexer": "ipython3",
      "version": "3.9.12"
    },
    "colab": {
      "provenance": [],
      "toc_visible": true
    }
  },
  "nbformat": 4,
  "nbformat_minor": 5
}